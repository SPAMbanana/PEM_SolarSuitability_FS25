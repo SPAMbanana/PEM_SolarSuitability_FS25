{
 "cells": [
  {
   "cell_type": "markdown",
   "source": [
    "# Participatory Environmental Modelling - Solar Suitability\n",
    "\n",
    "This Jupyter Notebook guides through the whole process of the data evaluation. Since this should be a guide to make the evaluation for another district in Switzerland based on the Bayesian Network we defined. If you have the required knowledge you can of course also use another network. This Jupyter Notebook mainly is concerned with the clipping of the data.\n",
    "\n",
    "The functionalities you do not need to be concerned about are in an externe Python file. The file is called `PEM_FS25_SolarSuitability.py`. This file contains all the functions that are used in this Jupyter Notebook.\n",
    "\n",
    "You probabily will have to change some paths, also in the python file, since we cannot make the whole dataset publicly available."
   ],
   "metadata": {
    "collapsed": false
   },
   "id": "3c0cc52c41d35556"
  },
  {
   "cell_type": "code",
   "source": "import PEM_FS25_SolarSuitabilityFuncs as SSF",
   "metadata": {
    "collapsed": true,
    "ExecuteTime": {
     "end_time": "2025-05-23T14:28:36.736815Z",
     "start_time": "2025-05-23T14:28:36.732786Z"
    }
   },
   "id": "initial_id",
   "outputs": [],
   "execution_count": 27
  },
  {
   "metadata": {
    "ExecuteTime": {
     "end_time": "2025-05-23T14:28:35.061446Z",
     "start_time": "2025-05-23T14:28:35.050420Z"
    }
   },
   "cell_type": "code",
   "source": [
    "# reload the module if you change it\n",
    "import importlib\n",
    "importlib.reload(SSF)"
   ],
   "id": "6f6999f961b5b9f7",
   "outputs": [
    {
     "data": {
      "text/plain": [
       "<module 'PEM_FS25_SolarSuitabilityFuncs' from 'C:\\\\Users\\\\PC\\\\OneDrive\\\\ETHZ\\\\FS25\\\\PEM\\\\pythonProject\\\\PEM_FS25_SolarSuitabilityFuncs.py'>"
      ]
     },
     "execution_count": 26,
     "metadata": {},
     "output_type": "execute_result"
    }
   ],
   "execution_count": 26
  },
  {
   "cell_type": "markdown",
   "source": [
    "# Netica Key figures\n",
    "\n",
    "In Netica there are sput some prior probabilities for each Ecosystem Service. By default there are taken all over Switzerland. If you want to use the prior probabilities for a specific district, you have to change the are we are looking at here, be aware depending on the case you might change the layer of the Swissboundaries dataset.\n",
    "If you want to change the break values between low, medium and high, you can do this in the `PEM_FS25_SolarSuitability.py` file. The break values are defined in the function `netica_priors()`."
   ],
   "metadata": {
    "collapsed": false
   },
   "id": "6f7a161349e56247"
  },
  {
   "metadata": {
    "ExecuteTime": {
     "end_time": "2025-05-23T14:29:36.762042Z",
     "start_time": "2025-05-23T14:28:38.405152Z"
    }
   },
   "cell_type": "code",
   "source": [
    "path_data = \"data/NCPs/\"\n",
    "path_swissboundaries = \"data/swissboundaries/swissBOUNDARIES3D_1_5_TLM_LANDESGEBIET.shp\"\n",
    "area_name = \"Schweiz\"\n",
    "SSF.netica_priors(path_data, path_swissboundaries, area_name)"
   ],
   "id": "8f091c6c93cfa7f0",
   "outputs": [
    {
     "name": "stdout",
     "output_type": "stream",
     "text": [
      "== AIR (AIR.tif) ==\n",
      "Low    (≤ 0.145): 70.86%\n",
      "Medium (≤ 0.417): 16.15%\n",
      "High   (> 0.417): 12.99%\n",
      "\n",
      "[SKIP] No breakpoints defined for: BD.tif\n",
      "== CAR (CAR.tif) ==\n",
      "Low    (≤ 0.290): 68.26%\n",
      "Medium (≤ 0.612): 4.44%\n",
      "High   (> 0.612): 27.31%\n",
      "\n",
      "== FF (FF.tif) ==\n",
      "Low    (≤ 0.226): 70.82%\n",
      "Medium (≤ 0.663): 11.84%\n",
      "High   (> 0.663): 17.35%\n",
      "\n",
      "== HAB (HAB.tif) ==\n",
      "Low    (≤ 0.345): 20.00%\n",
      "Medium (≤ 0.710): 4.86%\n",
      "High   (> 0.710): 75.14%\n",
      "\n",
      "[SKIP] No breakpoints defined for: HAZ.tif\n",
      "== ID (ID.tif) ==\n",
      "Low    (≤ 0.145): 55.25%\n",
      "Medium (≤ 0.373): 33.32%\n",
      "High   (> 0.373): 11.43%\n",
      "\n",
      "== LI (LI.tif) ==\n",
      "Low    (≤ 0.231): 55.28%\n",
      "Medium (≤ 0.537): 27.00%\n",
      "High   (> 0.537): 17.72%\n",
      "\n",
      "== MAT (MAT.tif) ==\n",
      "Low    (≤ 0.675): 77.43%\n",
      "Medium (≤ 0.001): 0.00%\n",
      "High   (> 0.001): 22.57%\n",
      "\n",
      "[SKIP] No breakpoints defined for: MED.tif\n",
      "[SKIP] No breakpoints defined for: NR.tif\n",
      "[SKIP] No breakpoints defined for: PC.tif\n",
      "== POL (POL.tif) ==\n",
      "Low    (≤ 0.290): 52.92%\n",
      "Medium (≤ 0.569): 34.88%\n",
      "High   (> 0.569): 12.20%\n",
      "\n",
      "== REC (REC.tif) ==\n",
      "Low    (≤ 0.204): 19.41%\n",
      "Medium (≤ 0.486): 56.84%\n",
      "High   (> 0.486): 23.75%\n",
      "\n",
      "== SR (SR.tif) ==\n",
      "Low    (≤ 0.012): 87.31%\n",
      "Medium (≤ 0.055): 11.81%\n",
      "High   (> 0.055): 0.88%\n",
      "\n",
      "== WY (WY.tif) ==\n",
      "Low    (≤ 0.184): 35.91%\n",
      "Medium (≤ 0.337): 40.85%\n",
      "High   (> 0.337): 23.24%\n",
      "\n"
     ]
    }
   ],
   "execution_count": 28
  },
  {
   "cell_type": "markdown",
   "source": [
    "# Main functionalities\n",
    "\n",
    "In the first step we just clip the data to the area of interest. In this case we are interested for data of a district. So we use the corresponding layer of the swissboundaries dataset and define the district we are interested in."
   ],
   "metadata": {
    "collapsed": false
   },
   "id": "c15064db75bf9e33"
  },
  {
   "cell_type": "code",
   "outputs": [],
   "source": [
    "path_data = \"data/NCPs/\"\n",
    "path_swissboundaries = \"data/swissboundaries/swissBOUNDARIES3D_1_5_TLM_BEZIRKSGEBIET.shp\"\n",
    "area_name = \"Frutigen-Niedersimmental\" # Lugano, Locarno, Obersimmental-Saanen, Frutigen-Niedersimmental, Surselva\n",
    "SSF.clip_area(path_data, path_swissboundaries, area_name)"
   ],
   "metadata": {
    "collapsed": false,
    "ExecuteTime": {
     "end_time": "2025-05-17T13:17:40.537769Z",
     "start_time": "2025-05-17T13:17:34.708638Z"
    }
   },
   "id": "c02e7d8873e5e017",
   "execution_count": 30
  },
  {
   "cell_type": "markdown",
   "source": [
    "Now you can find the Clipped Data in the folder `data_sout/NCPs_clipped/`. The data is safed as a TIFF which you now directly can enter into GBay (https://gbay.ethz.ch/) per drag and drop to the corresponding nodes as soon as you uploaded the Bayesian Network. Please don't forget to set a target node.\n",
    "After running GBay extract the tiff file and safe it in this folder: `data/GBay_Results/`.\n",
    "\n",
    "We will clip the data to some technical and policy constraints. \n",
    "The technical constraints are the following:\n",
    "- elevation above 1500 m\n",
    "- energy production potential is above 0.5\n",
    "- distance to streets and the grid is less than 5km \n",
    "The policy constraints are the following:\n",
    "- are is not inside a BLN area\n",
    "- area is not inside a national park\n",
    "\n",
    "All the required data is saved in the folder `data/Constraints/`. You can change the technical constraints in the following code cell. The policy constraints are already defined in the code. \n",
    "\n",
    "Please specify the name of your GBay output, so the constraints get applied to the correct file.\n"
   ],
   "metadata": {
    "collapsed": false
   },
   "id": "a071171db8e9ae0b"
  },
  {
   "cell_type": "markdown",
   "source": [],
   "metadata": {
    "collapsed": false
   },
   "id": "1dd79bf3eb8bd644"
  },
  {
   "cell_type": "code",
   "outputs": [],
   "source": [
    "minimum_elevation = 1500 # meters\n",
    "minimum_energy_production = 0.5 \n",
    "maximum_distance_street = 5000 # meters\n",
    "maximum_distance_grid = 5000 # meters\n",
    "area_name = \"Surselva\" # Lugano, Locarno, Obersimmental-Saanen, Frutigen-Niedersimmental, Surselva\n",
    "gbay_output_path = \"data/GBay_Results/Surselva_esco_serv.tiff\""
   ],
   "metadata": {
    "collapsed": false,
    "ExecuteTime": {
     "end_time": "2025-05-17T14:28:12.596217Z",
     "start_time": "2025-05-17T14:28:12.590843Z"
    }
   },
   "id": "53b80bcbb4d45624",
   "execution_count": 52
  },
  {
   "cell_type": "markdown",
   "source": [
    "The following code cell applies the constraints and creates a mask, which then will be applied to the GBay Output."
   ],
   "metadata": {
    "collapsed": false
   },
   "id": "1a9722353ce924de"
  },
  {
   "cell_type": "code",
   "outputs": [
    {
     "data": {
      "text/plain": "<Figure size 640x480 with 1 Axes>",
      "image/png": "[encoded data removed]"
     },
     "metadata": {},
     "output_type": "display_data"
    }
   ],
   "source": [
    "mask, mask_transform = SSF.generate_mask(minimum_elevation, minimum_energy_production, maximum_distance_street, maximum_distance_grid, path_swissboundaries, area_name)"
   ],
   "metadata": {
    "collapsed": false,
    "ExecuteTime": {
     "end_time": "2025-05-17T14:30:11.282595Z",
     "start_time": "2025-05-17T14:28:14.299550Z"
    }
   },
   "id": "1b1c20004590f30d",
   "execution_count": 53
  },
  {
   "cell_type": "code",
   "outputs": [],
   "source": [
    "SSF.apply_mask(gbay_output_path, mask, mask_transform, area_name)"
   ],
   "metadata": {
    "collapsed": false,
    "ExecuteTime": {
     "end_time": "2025-05-17T14:27:35.974979Z",
     "start_time": "2025-05-17T14:27:35.839172Z"
    }
   },
   "id": "25abca663183491a",
   "execution_count": 51
  },
  {
   "cell_type": "markdown",
   "source": [
    "The final layers can be found in the directory `data_output/final_output`\n",
    "The data consists of three bands, where the first band has the probability of suitability, the second band has the probability of not being suitable and the third band shows the most probable scenario (0 = not suitable, 1 = suitable)."
   ],
   "metadata": {
    "collapsed": false
   },
   "id": "ba939571f92f8a49"
  },
  {
   "cell_type": "markdown",
   "source": [
    "# How to run the code\n",
    "This Code was developed and tested on a Windows 11 machine and Python 3.12.\n",
    "All the dependencies are listed in the `requirements.txt` file. If you don't know how to setup a .venv with a `requirements.txt` file, please check out the following link: \n",
    "https://packaging.python.org/en/latest/guides/installing-using-pip-and-virtual-environments/"
   ],
   "metadata": {
    "collapsed": false
   },
   "id": "d3040bf8cc37670c"
  }
 ],
 "metadata": {
  "kernelspec": {
   "display_name": "Python 3",
   "language": "python",
   "name": "python3"
  },
  "language_info": {
   "codemirror_mode": {
    "name": "ipython",
    "version": 2
   },
   "file_extension": ".py",
   "mimetype": "text/x-python",
   "name": "python",
   "nbconvert_exporter": "python",
   "pygments_lexer": "ipython2",
   "version": "2.7.6"
  }
 },
 "nbformat": 4,
 "nbformat_minor": 5
}
